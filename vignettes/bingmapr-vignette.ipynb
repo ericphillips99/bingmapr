{
 "cells": [
  {
   "cell_type": "code",
   "execution_count": 1,
   "id": "bright-sixth",
   "metadata": {},
   "outputs": [
    {
     "name": "stderr",
     "output_type": "stream",
     "text": [
      "Loading required package: usethis\n",
      "\n",
      "Downloading GitHub repo ericphillips99/bingmapr@HEAD\n",
      "\n"
     ]
    },
    {
     "name": "stdout",
     "output_type": "stream",
     "text": [
      "lifecycle (0.2.0    -> 1.0.0   ) [CRAN]\n",
      "fansi     (0.4.1    -> 0.4.2   ) [CRAN]\n",
      "crayon    (1.3.4    -> 1.4.1   ) [CRAN]\n",
      "cli       (2.2.0    -> 2.3.0   ) [CRAN]\n",
      "cpp11     (0.2.4    -> 0.2.6   ) [CRAN]\n",
      "BH        (1.72.0-3 -> 1.75.0-0) [CRAN]\n",
      "tibble    (3.0.4    -> 3.0.6   ) [CRAN]\n",
      "hms       (0.5.3    -> 1.0.0   ) [CRAN]\n",
      "mime      (0.9      -> 0.10    ) [CRAN]\n"
     ]
    },
    {
     "name": "stderr",
     "output_type": "stream",
     "text": [
      "Installing 9 packages: lifecycle, fansi, crayon, cli, cpp11, BH, tibble, hms, mime\n",
      "\n",
      "Installing packages into ‘/usr/local/lib/R/4.0/site-library’\n",
      "(as ‘lib’ is unspecified)\n",
      "\n"
     ]
    },
    {
     "name": "stdout",
     "output_type": "stream",
     "text": [
      "\u001b[32m✔\u001b[39m  \u001b[38;5;247mchecking for file ‘/private/var/folders/j1/09dk6n6j72l803bdf4rpmy_w0000gn/T/RtmpTDmUap/remotes7ab63ee362f2/ericphillips99-bingmapr-f961c3a/DESCRIPTION’\u001b[39m\u001b[36m\u001b[39m\n",
      "\u001b[38;5;247m─\u001b[39m\u001b[38;5;247m  \u001b[39m\u001b[38;5;247mpreparing ‘bingmapr’:\u001b[39m\u001b[36m\u001b[39m\n",
      "\u001b[32m✔\u001b[39m  \u001b[38;5;247mchecking DESCRIPTION meta-information\u001b[39m\u001b[36m\u001b[39m\n",
      "\u001b[38;5;247m─\u001b[39m\u001b[38;5;247m  \u001b[39m\u001b[38;5;247mchecking for LF line-endings in source and make files and shell scripts\u001b[39m\u001b[36m\u001b[39m\n",
      "\u001b[38;5;247m─\u001b[39m\u001b[38;5;247m  \u001b[39m\u001b[38;5;247mchecking for empty or unneeded directories\u001b[39m\u001b[36m\u001b[39m\n",
      "\u001b[38;5;247m─\u001b[39m\u001b[38;5;247m  \u001b[39m\u001b[38;5;247mbuilding ‘bingmapr_0.0.0.9000.tar.gz’\u001b[39m\u001b[36m\u001b[39m\n",
      "   \n",
      "\r"
     ]
    },
    {
     "name": "stderr",
     "output_type": "stream",
     "text": [
      "Installing package into ‘/usr/local/lib/R/4.0/site-library’\n",
      "(as ‘lib’ is unspecified)\n",
      "\n"
     ]
    }
   ],
   "source": [
    "library(devtools)\n",
    "devtools::install_github('https://github.com/ericphillips99/bingmapr')"
   ]
  },
  {
   "cell_type": "code",
   "execution_count": null,
   "id": "emotional-lindsay",
   "metadata": {},
   "outputs": [],
   "source": []
  }
 ],
 "metadata": {
  "kernelspec": {
   "display_name": "R",
   "language": "R",
   "name": "ir"
  },
  "language_info": {
   "codemirror_mode": "r",
   "file_extension": ".r",
   "mimetype": "text/x-r-source",
   "name": "R",
   "pygments_lexer": "r",
   "version": "4.0.4"
  }
 },
 "nbformat": 4,
 "nbformat_minor": 5
}
